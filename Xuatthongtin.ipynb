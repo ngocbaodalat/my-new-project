{
 "cells": [
  {
   "cell_type": "code",
   "execution_count": 1,
   "id": "310c38dc",
   "metadata": {},
   "outputs": [
    {
     "name": "stdout",
     "output_type": "stream",
     "text": [
      "Họ và tên: Phan Ngọc Bảo\n"
     ]
    }
   ],
   "source": [
    "print ('Họ và tên: Phan Ngọc Bảo')"
   ]
  },
  {
   "cell_type": "code",
   "execution_count": 2,
   "id": "fa25213a",
   "metadata": {},
   "outputs": [
    {
     "name": "stdout",
     "output_type": "stream",
     "text": [
      "Ngày tháng năm sinh: 01/10/1986\n"
     ]
    }
   ],
   "source": [
    "print ('Ngày tháng năm sinh: 01/10/1986')"
   ]
  },
  {
   "cell_type": "code",
   "execution_count": null,
   "id": "f75cd335",
   "metadata": {},
   "outputs": [],
   "source": []
  }
 ],
 "metadata": {
  "kernelspec": {
   "display_name": "Python 3",
   "language": "python",
   "name": "python3"
  },
  "language_info": {
   "codemirror_mode": {
    "name": "ipython",
    "version": 3
   },
   "file_extension": ".py",
   "mimetype": "text/x-python",
   "name": "python",
   "nbconvert_exporter": "python",
   "pygments_lexer": "ipython3",
   "version": "3.8.8"
  }
 },
 "nbformat": 4,
 "nbformat_minor": 5
}
