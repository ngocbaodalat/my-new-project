{
 "cells": [
  {
   "cell_type": "code",
   "execution_count": 1,
   "id": "e9fd1b4b",
   "metadata": {},
   "outputs": [
    {
     "name": "stdout",
     "output_type": "stream",
     "text": [
      "Nhap vao mot chuoi tu ban phim:Xin chao lop Python\n",
      "Ky tu trong chuoi ban dauX\n",
      "Ky tu trong chuoi ban daui\n",
      "Ky tu trong chuoi ban daun\n",
      "Ky tu trong chuoi ban dau \n",
      "Ky tu trong chuoi ban dauc\n",
      "Ky tu trong chuoi ban dauh\n",
      "Ky tu trong chuoi ban daua\n",
      "Ky tu trong chuoi ban dauo\n",
      "Ky tu trong chuoi ban dau \n",
      "Ky tu trong chuoi ban daul\n",
      "Ky tu trong chuoi ban dauo\n",
      "Ky tu trong chuoi ban daup\n",
      "Ky tu trong chuoi ban dau \n",
      "Ky tu trong chuoi ban dauP\n",
      "Ky tu trong chuoi ban dauy\n",
      "Ky tu trong chuoi ban daut\n",
      "Ky tu trong chuoi ban dauh\n",
      "Ky tu trong chuoi ban dauo\n",
      "Ky tu trong chuoi ban daun\n"
     ]
    }
   ],
   "source": [
    "str1 = input('Nhap vao mot chuoi tu ban phim:')\n",
    "for x in str1:\n",
    "    print('Ky tu trong chuoi ban dau'+x)"
   ]
  },
  {
   "cell_type": "code",
   "execution_count": 2,
   "id": "84521e4f",
   "metadata": {},
   "outputs": [
    {
     "name": "stdout",
     "output_type": "stream",
     "text": [
      "Nhap vao chuoi1:abc\n",
      "Nhap vao chuoi2:abcd\n",
      "chuoiabcnam trongchuoiabcd\n"
     ]
    }
   ],
   "source": [
    "str1 = input('Nhap vao chuoi1:')\n",
    "str2 = input('Nhap vao chuoi2:')\n",
    "if str1 in str2:\n",
    "    print('chuoi'+str1+'nam trong'+'chuoi'+str2)\n",
    "else:\n",
    "    print('chuoi'+str1+'khong nam trong'+'chuoi'+str2)   \n",
    "\n"
   ]
  },
  {
   "cell_type": "code",
   "execution_count": null,
   "id": "08c265c3",
   "metadata": {},
   "outputs": [],
   "source": []
  }
 ],
 "metadata": {
  "kernelspec": {
   "display_name": "Python 3",
   "language": "python",
   "name": "python3"
  },
  "language_info": {
   "codemirror_mode": {
    "name": "ipython",
    "version": 3
   },
   "file_extension": ".py",
   "mimetype": "text/x-python",
   "name": "python",
   "nbconvert_exporter": "python",
   "pygments_lexer": "ipython3",
   "version": "3.8.8"
  }
 },
 "nbformat": 4,
 "nbformat_minor": 5
}
